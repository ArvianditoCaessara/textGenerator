{
 "cells": [
  {
   "cell_type": "markdown",
   "metadata": {
    "colab_type": "text",
    "id": "view-in-github"
   },
   "source": [
    "<a href=\"https://colab.research.google.com/github/bnsreenu/python_for_microscopists/blob/master/311_fine_tuning_GPT2.ipynb\" target=\"_parent\"><img src=\"https://colab.research.google.com/assets/colab-badge.svg\" alt=\"Open In Colab\"/></a>"
   ]
  },
  {
   "cell_type": "markdown",
   "metadata": {
    "id": "JfmZ8TnZw3IT"
   },
   "source": [
    "https://youtu.be/nsdCRVuprDY"
   ]
  },
  {
   "cell_type": "code",
   "execution_count": 1,
   "metadata": {
    "id": "xwk6OoI2Ep7Z"
   },
   "outputs": [
    {
     "name": "stdout",
     "output_type": "stream",
     "text": [
      "Requirement already satisfied: transformers in /Users/macbookpro/anaconda3/lib/python3.10/site-packages (4.24.0)\n",
      "Requirement already satisfied: pyyaml>=5.1 in /Users/macbookpro/anaconda3/lib/python3.10/site-packages (from transformers) (6.0)\n",
      "Requirement already satisfied: huggingface-hub<1.0,>=0.10.0 in /Users/macbookpro/anaconda3/lib/python3.10/site-packages (from transformers) (0.10.1)\n",
      "Requirement already satisfied: numpy>=1.17 in /Users/macbookpro/anaconda3/lib/python3.10/site-packages (from transformers) (1.23.5)\n",
      "Requirement already satisfied: requests in /Users/macbookpro/anaconda3/lib/python3.10/site-packages (from transformers) (2.31.0)\n",
      "Requirement already satisfied: tokenizers!=0.11.3,<0.14,>=0.11.1 in /Users/macbookpro/anaconda3/lib/python3.10/site-packages (from transformers) (0.11.4)\n",
      "Requirement already satisfied: filelock in /Users/macbookpro/anaconda3/lib/python3.10/site-packages (from transformers) (3.9.0)\n",
      "Requirement already satisfied: packaging>=20.0 in /Users/macbookpro/anaconda3/lib/python3.10/site-packages (from transformers) (22.0)\n",
      "Requirement already satisfied: tqdm>=4.27 in /Users/macbookpro/anaconda3/lib/python3.10/site-packages (from transformers) (4.64.1)\n",
      "Requirement already satisfied: regex!=2019.12.17 in /Users/macbookpro/anaconda3/lib/python3.10/site-packages (from transformers) (2022.7.9)\n",
      "Requirement already satisfied: typing-extensions>=3.7.4.3 in /Users/macbookpro/anaconda3/lib/python3.10/site-packages (from huggingface-hub<1.0,>=0.10.0->transformers) (4.4.0)\n",
      "Requirement already satisfied: charset-normalizer<4,>=2 in /Users/macbookpro/anaconda3/lib/python3.10/site-packages (from requests->transformers) (2.0.4)\n",
      "Requirement already satisfied: urllib3<3,>=1.21.1 in /Users/macbookpro/anaconda3/lib/python3.10/site-packages (from requests->transformers) (1.26.14)\n",
      "Requirement already satisfied: certifi>=2017.4.17 in /Users/macbookpro/anaconda3/lib/python3.10/site-packages (from requests->transformers) (2022.12.7)\n",
      "Requirement already satisfied: idna<4,>=2.5 in /Users/macbookpro/anaconda3/lib/python3.10/site-packages (from requests->transformers) (3.4)\n"
     ]
    }
   ],
   "source": [
    "!pip install transformers"
   ]
  },
  {
   "cell_type": "code",
   "execution_count": 2,
   "metadata": {
    "id": "l9PhAQicEyQd"
   },
   "outputs": [
    {
     "name": "stdout",
     "output_type": "stream",
     "text": [
      "Collecting PyPDF2\n",
      "  Downloading pypdf2-3.0.1-py3-none-any.whl (232 kB)\n",
      "\u001b[2K     \u001b[90m━━━━━━━━━━━━━━━━━━━━━━━━━━━━━━━━━━━━━━━\u001b[0m \u001b[32m232.6/232.6 kB\u001b[0m \u001b[31m2.5 MB/s\u001b[0m eta \u001b[36m0:00:00\u001b[0ma \u001b[36m0:00:01\u001b[0m\n",
      "\u001b[?25hInstalling collected packages: PyPDF2\n",
      "Successfully installed PyPDF2-3.0.1\n",
      "Collecting python-docx\n",
      "  Downloading python_docx-1.0.1-py3-none-any.whl (237 kB)\n",
      "\u001b[2K     \u001b[90m━━━━━━━━━━━━━━━━━━━━━━━━━━━━━━━━━━━━━━━\u001b[0m \u001b[32m237.4/237.4 kB\u001b[0m \u001b[31m3.1 MB/s\u001b[0m eta \u001b[36m0:00:00\u001b[0ma \u001b[36m0:00:01\u001b[0m\n",
      "\u001b[?25hRequirement already satisfied: lxml>=3.1.0 in /Users/macbookpro/anaconda3/lib/python3.10/site-packages (from python-docx) (4.9.1)\n",
      "Requirement already satisfied: typing-extensions in /Users/macbookpro/anaconda3/lib/python3.10/site-packages (from python-docx) (4.4.0)\n",
      "Installing collected packages: python-docx\n",
      "Successfully installed python-docx-1.0.1\n"
     ]
    }
   ],
   "source": [
    "!pip install -U PyPDF2\n",
    "!pip install python-docx"
   ]
  },
  {
   "cell_type": "code",
   "execution_count": 3,
   "metadata": {
    "id": "ItYpaZD9EH7J"
   },
   "outputs": [],
   "source": [
    "import pandas as pd\n",
    "import numpy as np\n",
    "import re\n",
    "from PyPDF2 import PdfReader\n",
    "import os\n",
    "import docx"
   ]
  },
  {
   "cell_type": "code",
   "execution_count": 4,
   "metadata": {
    "id": "Ly_QfYPDHlie"
   },
   "outputs": [],
   "source": [
    "# Functions to read different file types\n",
    "def read_pdf(file_path):\n",
    "    with open(file_path, \"rb\") as file:\n",
    "        pdf_reader = PdfReader(file)\n",
    "        text = \"\"\n",
    "        for page_num in range(len(pdf_reader.pages)):\n",
    "            text += pdf_reader.pages[page_num].extract_text()\n",
    "    return text\n",
    "\n",
    "def read_word(file_path):\n",
    "    doc = docx.Document(file_path)\n",
    "    text = \"\"\n",
    "    for paragraph in doc.paragraphs:\n",
    "        text += paragraph.text + \"\\n\"\n",
    "    return text\n",
    "\n",
    "def read_txt(file_path):\n",
    "    with open(file_path, \"r\") as file:\n",
    "        text = file.read()\n",
    "    return text\n",
    "\n",
    "def read_documents_from_directory(directory):\n",
    "    combined_text = \"\"\n",
    "    for filename in os.listdir(directory):\n",
    "        file_path = os.path.join(directory, filename)\n",
    "        if filename.endswith(\".pdf\"):\n",
    "            combined_text += read_pdf(file_path)\n",
    "        elif filename.endswith(\".docx\"):\n",
    "            combined_text += read_word(file_path)\n",
    "        elif filename.endswith(\".txt\"):\n",
    "            combined_text += read_txt(file_path)\n",
    "    return combined_text\n"
   ]
  },
  {
   "cell_type": "code",
   "execution_count": 11,
   "metadata": {},
   "outputs": [
    {
     "data": {
      "text/plain": [
       "'Nike, Inc.(stylized as NIKE) is an American athletic footwear and apparel corporation headquartered near Beaverton, Oregon, United States. It is the world\\'s largest supplier of athletic shoes and apparel and a major manufacturer of sports equipment, with revenue in excess of US$46 billion in its fiscal year 2022\\n\\nThe company was founded on January 25, 1964, as \"Blue Ribbon Sports\", by Bill Bowerman and Phil Knight, and officially became Nike, Inc. on May 30, 1971. The company takes its name from Nike, the Greek goddess of victory. Nike markets its products under its own brand, as well as Nike Golf, Nike Pro, Nike+, Air Jordan, Nike Blazers, Air Force 1, Nike Dunk, Air Max, Foamposite, Nike Skateboarding, Nike CR7, and subsidiaries including Air Jordan and Converse (brand). Nike also owned Bauer Hockey from 1995 to 2008, and previously owned Cole Haan, Umbro, and Hurley International. In addition to manufacturing sportswear and equipment, the company operates retail stores under the Niketown name. Nike sponsors many high-profile athletes and sports teams around the world, with the highly recognized trademarks of \"Just Do It\" and the Swoosh logo.\\n\\nAs of 2020, it employed 76,700 people worldwide. In 2020, the brand alone was valued in excess of $32 billion, making it the most valuable brand among sports businesses. Previously, in 2017, the Nike brand was valued at $29.6 billion. Nike ranked 89th in the 2018 Fortune 500 list of the largest United States corporations by total revenue.\\nNike, originally known as Blue Ribbon Sports (BRS), was founded by University of Oregon track athlete Phil Knight and his coach, Bill Bowerman, on January 25, 1964. The company initially operated in Eugene, Oregon as a distributor for Japanese shoe maker Onitsuka Tiger, making most sales at track meets out of Knight\\'s automobile.\\n\\nAccording to Otis Davis, a University of Oregon student-athlete coached by Bowerman and Olympic gold medalist at the 1960 Summer Olympics, his coach made the first pair of Nike shoes for him, contradicting a claim that they were made for Phil Knight. According to Davis, \"I told Tom Brokaw that I was the first. I don\\'t care what all the billionaires say. Bill Bowerman made the first pair of shoes for me. People don\\'t believe me. In fact, I didn\\'t like the way they felt on my feet. There was no support and they were too tight. But I saw Bowerman made them from the waffle iron, and they were mine\".\\n\\nIn its first year in business, BRS sold 1,300 pairs of Japanese running shoes grossing $8,000.[16] By 1965, sales had reached $20,000. In 1966, BRS opened its first retail store at 3107 Pico Boulevard in Santa Monica, California. In 1967, due to increasing sales, BRS expanded retail and distribution operations on the East Coast, in Wellesley, Massachusetts.\\n\\nVintage Nike \"waffle racer\" sneaker\\nIn 1971, Bowerman used his wife\\'s waffle iron to experiment on rubber to create a new sole for track shoes that would grip but be lightweight and increase the runner\\'s speed. Oregon\\'s Hayward Field was transitioning to an artificial surface, and Bowerman wanted a sole which could grip to grass or bark dust without the use of spikes. Bowerman was talking to his wife about this puzzle over breakfast, when the waffle iron idea came into play.\\n\\nBowerman\\'s design led to the introduction of the \"Moon Shoe\" in 1972, so named because the waffle tread was said to resemble the footprints left by astronauts on the moon. Further refinement resulted in the \"Waffle Trainer\" in 1974, which helped fuel the explosive growth of Blue Ribbon Sports/Nike.\\n\\nTension between BRS and Onitsuka Tiger increased in 1971 as the latter attempted a takeover of BRS by extending an ultimatum proposal that would give the Japanese company 51 percent of BRS. In 1972, the relationship between BRS and Onitsuka Tiger came to an end. BRS prepared to launch its own line of footwear. The previous year, it was already able to place from two Japanese shoe manufacturers the company’s first independent order for 20,000, which included 6,000 that had the Nike logo. Runner Jeff Johnson was brought in to help market the new brand and was credited for coining the name “Nike”. It would bear the Swoosh newly designed by Carolyn Davidson. The Swoosh was first used by Nike on June 18, 1971, and was registered with the U.S. Patent and Trademark Office on January 22, 1974.\\n\\nIn 1976, the company hired John Brown and Partners, based in Seattle, as its first advertising agency. The following year, the agency created the first \"brand ad\" for Nike, called \"There is no finish line\", in which no Nike product was shown. By 1980 Nike had attained a 50% market share in the U.S. athletic shoe market, and the company went public in December of that year.\\n\\nWieden+Kennedy, Nike\\'s primary ad agency, has worked with Nike to create many print and television advertisements, and Wieden+Kennedy remains Nike\\'s primary ad agency. It was agency co-founder Dan Wieden who coined the now-famous slogan \"Just Do It\" for a 1988 Nike ad campaign, which was chosen by Advertising Age as one of the top five ad slogans of the 20th century and enshrined in the Smithsonian Institution. Walt Stack was featured in Nike\\'s first \"Just Do It\" advertisement, which debuted on July 1, 1988. Wieden credits the inspiration for the slogan to \"Let\\'s do it\", the last words spoken by Gary Gilmore before he was executed.\\n\\nThroughout the 1980s, Nike expanded its product line to encompass many sports and regions throughout the world. In 1990, Nike moved into its eight-building World Headquarters campus in Beaverton, Oregon. The first Nike retail store, dubbed Niketown, opened in downtown Portland in November of that year.\\n\\nPhil Knight announced in mid-2015 that he would step down as chairman of Nike in 2016. He officially stepped down from all duties with the company on June 30, 2016.\\n\\nIn a company public announcement on March 15, 2018, Nike CEO Mark Parker said Trevor Edwards, a top Nike executive who was seen as a potential successor to the chief executive, was relinquishing his position as Nike\\'s brand president and would retire in August.[41]\\n\\nIn October 2019, John Donahoe was announced as the next CEO, and succeeded Parker on January 13, 2020.[42] In November 2019, the company stopped selling directly through Amazon, focusing more on direct relationships with customers.[43]'"
      ]
     },
     "execution_count": 11,
     "metadata": {},
     "output_type": "execute_result"
    }
   ],
   "source": [
    "import pandas as pd\n",
    "\n",
    "df = pd.read_csv('data/nike_data.csv')\n",
    "data = df[\"Text\"].str.cat(sep='\\n')\n",
    "data"
   ]
  },
  {
   "cell_type": "code",
   "execution_count": 13,
   "metadata": {
    "id": "oobynnecHx87"
   },
   "outputs": [
    {
     "data": {
      "text/plain": [
       "'Nike, Inc.(stylized as NIKE) is an American athletic footwear and apparel corporation headquartered near Beaverton, Oregon, United States. It is the world\\'s largest supplier of athletic shoes and apparel and a major manufacturer of sports equipment, with revenue in excess of US$46 billion in its fiscal year 2022\\nThe company was founded on January 25, 1964, as \"Blue Ribbon Sports\", by Bill Bowerman and Phil Knight, and officially became Nike, Inc. on May 30, 1971. The company takes its name from Nike, the Greek goddess of victory. Nike markets its products under its own brand, as well as Nike Golf, Nike Pro, Nike+, Air Jordan, Nike Blazers, Air Force 1, Nike Dunk, Air Max, Foamposite, Nike Skateboarding, Nike CR7, and subsidiaries including Air Jordan and Converse (brand). Nike also owned Bauer Hockey from 1995 to 2008, and previously owned Cole Haan, Umbro, and Hurley International. In addition to manufacturing sportswear and equipment, the company operates retail stores under the Niketown name. Nike sponsors many high-profile athletes and sports teams around the world, with the highly recognized trademarks of \"Just Do It\" and the Swoosh logo.\\nAs of 2020, it employed 76,700 people worldwide. In 2020, the brand alone was valued in excess of $32 billion, making it the most valuable brand among sports businesses. Previously, in 2017, the Nike brand was valued at $29.6 billion. Nike ranked 89th in the 2018 Fortune 500 list of the largest United States corporations by total revenue.\\nNike, originally known as Blue Ribbon Sports (BRS), was founded by University of Oregon track athlete Phil Knight and his coach, Bill Bowerman, on January 25, 1964. The company initially operated in Eugene, Oregon as a distributor for Japanese shoe maker Onitsuka Tiger, making most sales at track meets out of Knight\\'s automobile.\\nAccording to Otis Davis, a University of Oregon student-athlete coached by Bowerman and Olympic gold medalist at the 1960 Summer Olympics, his coach made the first pair of Nike shoes for him, contradicting a claim that they were made for Phil Knight. According to Davis, \"I told Tom Brokaw that I was the first. I don\\'t care what all the billionaires say. Bill Bowerman made the first pair of shoes for me. People don\\'t believe me. In fact, I didn\\'t like the way they felt on my feet. There was no support and they were too tight. But I saw Bowerman made them from the waffle iron, and they were mine\".\\nIn its first year in business, BRS sold 1,300 pairs of Japanese running shoes grossing $8,000.[16] By 1965, sales had reached $20,000. In 1966, BRS opened its first retail store at 3107 Pico Boulevard in Santa Monica, California. In 1967, due to increasing sales, BRS expanded retail and distribution operations on the East Coast, in Wellesley, Massachusetts.\\nVintage Nike \"waffle racer\" sneaker\\nIn 1971, Bowerman used his wife\\'s waffle iron to experiment on rubber to create a new sole for track shoes that would grip but be lightweight and increase the runner\\'s speed. Oregon\\'s Hayward Field was transitioning to an artificial surface, and Bowerman wanted a sole which could grip to grass or bark dust without the use of spikes. Bowerman was talking to his wife about this puzzle over breakfast, when the waffle iron idea came into play.\\nBowerman\\'s design led to the introduction of the \"Moon Shoe\" in 1972, so named because the waffle tread was said to resemble the footprints left by astronauts on the moon. Further refinement resulted in the \"Waffle Trainer\" in 1974, which helped fuel the explosive growth of Blue Ribbon Sports/Nike.\\nTension between BRS and Onitsuka Tiger increased in 1971 as the latter attempted a takeover of BRS by extending an ultimatum proposal that would give the Japanese company 51 percent of BRS. In 1972, the relationship between BRS and Onitsuka Tiger came to an end. BRS prepared to launch its own line of footwear. The previous year, it was already able to place from two Japanese shoe manufacturers the company’s first independent order for 20,000, which included 6,000 that had the Nike logo. Runner Jeff Johnson was brought in to help market the new brand and was credited for coining the name “Nike”. It would bear the Swoosh newly designed by Carolyn Davidson. The Swoosh was first used by Nike on June 18, 1971, and was registered with the U.S. Patent and Trademark Office on January 22, 1974.\\nIn 1976, the company hired John Brown and Partners, based in Seattle, as its first advertising agency. The following year, the agency created the first \"brand ad\" for Nike, called \"There is no finish line\", in which no Nike product was shown. By 1980 Nike had attained a 50% market share in the U.S. athletic shoe market, and the company went public in December of that year.\\nWieden+Kennedy, Nike\\'s primary ad agency, has worked with Nike to create many print and television advertisements, and Wieden+Kennedy remains Nike\\'s primary ad agency. It was agency co-founder Dan Wieden who coined the now-famous slogan \"Just Do It\" for a 1988 Nike ad campaign, which was chosen by Advertising Age as one of the top five ad slogans of the 20th century and enshrined in the Smithsonian Institution. Walt Stack was featured in Nike\\'s first \"Just Do It\" advertisement, which debuted on July 1, 1988. Wieden credits the inspiration for the slogan to \"Let\\'s do it\", the last words spoken by Gary Gilmore before he was executed.\\nThroughout the 1980s, Nike expanded its product line to encompass many sports and regions throughout the world. In 1990, Nike moved into its eight-building World Headquarters campus in Beaverton, Oregon. The first Nike retail store, dubbed Niketown, opened in downtown Portland in November of that year.\\nPhil Knight announced in mid-2015 that he would step down as chairman of Nike in 2016. He officially stepped down from all duties with the company on June 30, 2016.\\nIn a company public announcement on March 15, 2018, Nike CEO Mark Parker said Trevor Edwards, a top Nike executive who was seen as a potential successor to the chief executive, was relinquishing his position as Nike\\'s brand president and would retire in August.[41]\\nIn October 2019, John Donahoe was announced as the next CEO, and succeeded Parker on January 13, 2020.[42] In November 2019, the company stopped selling directly through Amazon, focusing more on direct relationships with customers.[43]'"
      ]
     },
     "execution_count": 13,
     "metadata": {},
     "output_type": "execute_result"
    }
   ],
   "source": [
    "# Read documents from the directory\n",
    "#train_directory = '/content/drive/MyDrive/ColabNotebooks/data/chatbot_docs/training_data/full_text'\n",
    "#train_directory = '/content/drive/MyDrive/ColabNotebooks/data/chatbot_docs/training_data/q_and_a'\n",
    "#train_directory = '/data'\n",
    "#text_data = read_documents_from_directory(train_directory)\n",
    "text_data = re.sub(r'\\n+', '\\n', data).strip()  # Remove excess newline characters\n",
    "text_data"
   ]
  },
  {
   "cell_type": "code",
   "execution_count": null,
   "metadata": {
    "id": "YUR9VpCuE5GN"
   },
   "outputs": [],
   "source": [
    "#text_data = read_pdf('/content/drive/MyDrive/ColabNotebooks/data/chatbot_docs/Cell_Biology.pdf')\n",
    "#text_data = re.sub(r'\\n+', '\\n', text_data).strip()  # Remove excess newline characters"
   ]
  },
  {
   "cell_type": "code",
   "execution_count": null,
   "metadata": {
    "id": "-ZaBPMO-GZQP"
   },
   "outputs": [],
   "source": [
    "# Save the training and validation data as text files\n",
    "#with open(\"/content/drive/MyDrive/ColabNotebooks/data/chatbot_docs/combined_text/full_text/train.txt\", \"w\") as f:\n",
    " #   f.write(text_data)"
   ]
  },
  {
   "cell_type": "code",
   "execution_count": 32,
   "metadata": {},
   "outputs": [
    {
     "data": {
      "text/plain": [
       "'[Q] When did Nike, Inc. officially become \"Nike, Inc.\"?\\n[A] Nike, Inc. officially became \"Nike, Inc.\" on May 30, 1971.\\n\\n[Q] What is the origin of the name \"Nike\" for the company?\\n[A] Nike takes its name from Nike, the Greek goddess of victory.\\n\\n[Q] What was the initial purpose of Blue Ribbon Sports (BRS)?\\n[A] Blue Ribbon Sports (BRS) initially operated as a distributor for Japanese shoe maker Onitsuka Tiger.\\n\\n[Q] Who was the first person for whom Bill Bowerman made a pair of Nike shoes?\\n[A] According to Otis Davis, a University of Oregon student-athlete, Bill Bowerman made the first pair of Nike shoes for him.\\n\\n[Q] What was the initial year-one sales for Blue Ribbon Sports (BRS)?\\n[A] In its first year in business, BRS sold 1,300 pairs of Japanese running shoes grossing $8,000.\\n\\n[Q] When was the first Nike retail store opened, and where?\\n[A] The first Nike retail store opened in 1966 at 3107 Pico Boulevard in Santa Monica, California.\\n\\n[Q] How did Bill Bowerman come up with the idea for a new sole for track shoes?\\n[A] Bill Bowerman used his wife\\'s waffle iron to experiment on rubber and create a new sole for track shoes.\\n\\n[Q] What was the first shoe with a waffle sole called, and when was it introduced?\\n[A] The first shoe with a waffle sole was called the \"Moon Shoe,\" and it was introduced in 1972.\\n\\n[Q] Who was brought in to help market the new Nike brand?\\n[A] Runner Jeff Johnson was brought in to help market the new Nike brand.\\n\\n[Q] Who is credited for coining the name \"Nike\"?\\n[A] Jeff Johnson was credited for coining the name \"Nike.\"\\n\\n[Q] When was the Swoosh logo first used by Nike, and when was it registered with the U.S. Patent and Trademark Office?\\n[A] The Swoosh logo was first used by Nike on June 18, 1971, and it was registered with the U.S. Patent and Trademark Office on January 22, 1974.\\n\\n[Q] When did Nike go public, and what was its market share in the U.S. athletic shoe market at the time?\\n[A] Nike went public in December 1980, and it had attained a 50% market share in the U.S. athletic shoe market.\\n\\n[Q] Who coined the famous Nike slogan \"Just Do It,\" and when was it introduced?\\n[A] The famous slogan \"Just Do It\" was coined by Dan Wieden, and it was introduced in a 1988 Nike ad campaign.\\n\\n[Q] What was the inspiration for the \"Just Do It\" slogan?\\n[A] The inspiration for the \"Just Do It\" slogan was credited to \"Let\\'s do it,\" the last words spoken by Gary Gilmore before he was executed.\\n\\n[Q] When did Nike open its first retail store, and what was it called?\\n[A] The first Nike retail store, called Niketown, opened in downtown Portland in November 1990.\\n\\n[Q] Who succeeded Phil Knight as chairman of Nike in 2016?\\n[A] Phil Knight was succeeded as chairman of Nike by someone else in 2016.\\n\\n[Q] Who succeeded Mark Parker as CEO of Nike in 2020?\\n[A] John Donahoe succeeded Mark Parker as CEO of Nike on January 13, 2020.\\n\\n[Q] What change did Nike make in October 2019 regarding its sales strategy?\\n[A] In October 2019, Nike stopped selling directly through Amazon and focused more on direct relationships with customers.\\n\\n[Q] What is the headquarters location of Nike, Inc.?\\n[A] Nike, Inc. is headquartered near Beaverton, Oregon, United States.\\n\\n[Q] What is the primary product category of Nike, Inc.?\\n[A] Nike, Inc. is the world\\'s largest supplier of athletic shoes and apparel.\\n\\n[Q] Can you name some of the subsidiary brands owned by Nike, Inc.?\\n[A] Nike markets its products under its own brand, as well as subsidiary brands including Air Jordan and Converse.\\n\\n[Q] What is the famous slogan associated with Nike?\\n[A] The highly recognized slogan of Nike is \"Just Do It.\"\\n\\n[Q] In which year was the Nike brand first valued at over $32 billion?\\n[A] In 2020, the Nike brand alone was valued at over $32 billion.\\n\\n[Q] Who was responsible for creating the first pair of Nike shoes?\\n[A] Bill Bowerman made the first pair of Nike shoes.\\n\\n[Q] What was the inspiration for the waffle sole design of Nike shoes?\\n[A] Bill Bowerman used a waffle iron to experiment with rubber, which led to the creation of the waffle sole.\\n\\n[Q] When did the Swoosh logo first appear, and when was it registered as a trademark?\\n[A] The Swoosh logo first appeared on June 18, 1971, and it was registered with the U.S. Patent and Trademark Office on January 22, 1974.\\n\\n[Q] Who was featured in Nike\\'s first \"Just Do It\" advertisement?\\n[A] Walt Stack was featured in Nike\\'s first \"Just Do It\" advertisement, which debuted on July 1, 1988.\\n\\n[Q] In which year did Nike go public and achieve a 50% market share in the U.S. athletic shoe market?\\n[A] Nike went public in December 1980 and achieved a 50% market share in the U.S. athletic shoe market.\\n\\n[Q] Who coined the slogan \"Just Do It\" for a Nike ad campaign?\\n[A] The slogan \"Just Do It\" was coined by Dan Wieden for a 1988 Nike ad campaign.\\n\\n[Q] What type of products does Nike primarily manufacture?\\n[A] Nike primarily manufactures sportswear, athletic shoes, and equipment.\\n\\n[Q] What is the value of the Nike brand among sports businesses?\\n[A] In 2020, the Nike brand was valued at over $32 billion, making it the most valuable brand among sports businesses.\\n\\n[Q] Who is credited with coining the name \"Nike\" for the company?\\n[A] Runner Jeff Johnson is credited with coining the name \"Nike\" for the company.\\n\\n[Q] When did Nike open its first retail store, and where was it located?\\n[A] The first Nike retail store, Niketown, opened in downtown Portland in November 1990.\\n\\n[Q] What was the original name of Nike, Inc. before it became \"Nike\"?\\n[A] Nike, Inc. was originally named \"Blue Ribbon Sports.\"\\n\\n[Q] Who is the Greek goddess from whom Nike takes its name?\\n[A] Nike takes its name from the Greek goddess of victory, also named Nike.\\n\\n[Q] What significant event occurred in 1967 that led to the expansion of Blue Ribbon Sports on the East Coast?\\n[A] In 1967, due to increasing sales, Blue Ribbon Sports expanded its retail and distribution operations on the East Coast in Wellesley, Massachusetts.\\n\\n[Q] What is the significance of the \"Waffle Trainer\" introduced in 1974?\\n[A] The \"Waffle Trainer\" was significant as it helped fuel the explosive growth of Blue Ribbon Sports/Nike.\\n\\n[Q] Why did the relationship between Blue Ribbon Sports and Onitsuka Tiger come to an end in 1972?\\n[A] The relationship ended due to increasing tensions, including a takeover attempt by Onitsuka Tiger, which would have given the Japanese company 51 percent of Blue Ribbon Sports.\\n\\n[Q] Who was responsible for designing the Swoosh logo, and when was it first used?\\n[A] The Swoosh logo was designed by Carolyn Davidson and was first used by Nike on June 18, 1971.\\n\\n[Q] When did Nike\\'s primary advertising agency, Wieden+Kennedy, create the first \"brand ad\" for Nike?\\n[A] In 1976, Wieden+Kennedy created the first \"brand ad\" for Nike, called \"There is no finish line.\"\\n\\n[Q] Who was featured in the first \"Just Do It\" advertisement, and when did it debut?\\n[A] Walt Stack was featured in Nike\\'s first \"Just Do It\" advertisement, which debuted on July 1, 1988.\\n\\n[Q] What inspired the \"Just Do It\" slogan?\\n[A] The inspiration for the \"Just Do It\" slogan was credited to \"Let\\'s do it,\" the last words spoken by Gary Gilmore before he was executed.\\n\\n[Q] What percentage of the U.S. athletic shoe market did Nike attain by 1980?\\n[A] By 1980, Nike had attained a 50% market share in the U.S. athletic shoe market.\\n\\n[Q] Who succeeded Phil Knight as chairman of Nike in 2016?\\n[A] Phil Knight was succeeded as chairman of Nike by someone else in 2016.\\n\\n[Q] When did John Donahoe become the CEO of Nike, and who did he succeed?\\n[A] John Donahoe became the CEO of Nike on January 13, 2020, succeeding Mark Parker.\\n\\n[Q] What change did Nike make in its sales strategy in October 2019?\\n[A] In October 2019, Nike stopped selling directly through Amazon and focused more on direct relationships with customers.'"
      ]
     },
     "execution_count": 32,
     "metadata": {},
     "output_type": "execute_result"
    }
   ],
   "source": [
    "import pandas as pd\n",
    "\n",
    "df = pd.read_csv('data/nike_data_qanda.csv')\n",
    "data = df[\"Text\"].str.cat(sep='\\n')\n",
    "data"
   ]
  },
  {
   "cell_type": "code",
   "execution_count": 33,
   "metadata": {},
   "outputs": [
    {
     "data": {
      "text/plain": [
       "'[Q] When did Nike, Inc. officially become \"Nike, Inc.\"?\\n[A] Nike, Inc. officially became \"Nike, Inc.\" on May 30, 1971.\\n[Q] What is the origin of the name \"Nike\" for the company?\\n[A] Nike takes its name from Nike, the Greek goddess of victory.\\n[Q] What was the initial purpose of Blue Ribbon Sports (BRS)?\\n[A] Blue Ribbon Sports (BRS) initially operated as a distributor for Japanese shoe maker Onitsuka Tiger.\\n[Q] Who was the first person for whom Bill Bowerman made a pair of Nike shoes?\\n[A] According to Otis Davis, a University of Oregon student-athlete, Bill Bowerman made the first pair of Nike shoes for him.\\n[Q] What was the initial year-one sales for Blue Ribbon Sports (BRS)?\\n[A] In its first year in business, BRS sold 1,300 pairs of Japanese running shoes grossing $8,000.\\n[Q] When was the first Nike retail store opened, and where?\\n[A] The first Nike retail store opened in 1966 at 3107 Pico Boulevard in Santa Monica, California.\\n[Q] How did Bill Bowerman come up with the idea for a new sole for track shoes?\\n[A] Bill Bowerman used his wife\\'s waffle iron to experiment on rubber and create a new sole for track shoes.\\n[Q] What was the first shoe with a waffle sole called, and when was it introduced?\\n[A] The first shoe with a waffle sole was called the \"Moon Shoe,\" and it was introduced in 1972.\\n[Q] Who was brought in to help market the new Nike brand?\\n[A] Runner Jeff Johnson was brought in to help market the new Nike brand.\\n[Q] Who is credited for coining the name \"Nike\"?\\n[A] Jeff Johnson was credited for coining the name \"Nike.\"\\n[Q] When was the Swoosh logo first used by Nike, and when was it registered with the U.S. Patent and Trademark Office?\\n[A] The Swoosh logo was first used by Nike on June 18, 1971, and it was registered with the U.S. Patent and Trademark Office on January 22, 1974.\\n[Q] When did Nike go public, and what was its market share in the U.S. athletic shoe market at the time?\\n[A] Nike went public in December 1980, and it had attained a 50% market share in the U.S. athletic shoe market.\\n[Q] Who coined the famous Nike slogan \"Just Do It,\" and when was it introduced?\\n[A] The famous slogan \"Just Do It\" was coined by Dan Wieden, and it was introduced in a 1988 Nike ad campaign.\\n[Q] What was the inspiration for the \"Just Do It\" slogan?\\n[A] The inspiration for the \"Just Do It\" slogan was credited to \"Let\\'s do it,\" the last words spoken by Gary Gilmore before he was executed.\\n[Q] When did Nike open its first retail store, and what was it called?\\n[A] The first Nike retail store, called Niketown, opened in downtown Portland in November 1990.\\n[Q] Who succeeded Phil Knight as chairman of Nike in 2016?\\n[A] Phil Knight was succeeded as chairman of Nike by someone else in 2016.\\n[Q] Who succeeded Mark Parker as CEO of Nike in 2020?\\n[A] John Donahoe succeeded Mark Parker as CEO of Nike on January 13, 2020.\\n[Q] What change did Nike make in October 2019 regarding its sales strategy?\\n[A] In October 2019, Nike stopped selling directly through Amazon and focused more on direct relationships with customers.\\n[Q] What is the headquarters location of Nike, Inc.?\\n[A] Nike, Inc. is headquartered near Beaverton, Oregon, United States.\\n[Q] What is the primary product category of Nike, Inc.?\\n[A] Nike, Inc. is the world\\'s largest supplier of athletic shoes and apparel.\\n[Q] Can you name some of the subsidiary brands owned by Nike, Inc.?\\n[A] Nike markets its products under its own brand, as well as subsidiary brands including Air Jordan and Converse.\\n[Q] What is the famous slogan associated with Nike?\\n[A] The highly recognized slogan of Nike is \"Just Do It.\"\\n[Q] In which year was the Nike brand first valued at over $32 billion?\\n[A] In 2020, the Nike brand alone was valued at over $32 billion.\\n[Q] Who was responsible for creating the first pair of Nike shoes?\\n[A] Bill Bowerman made the first pair of Nike shoes.\\n[Q] What was the inspiration for the waffle sole design of Nike shoes?\\n[A] Bill Bowerman used a waffle iron to experiment with rubber, which led to the creation of the waffle sole.\\n[Q] When did the Swoosh logo first appear, and when was it registered as a trademark?\\n[A] The Swoosh logo first appeared on June 18, 1971, and it was registered with the U.S. Patent and Trademark Office on January 22, 1974.\\n[Q] Who was featured in Nike\\'s first \"Just Do It\" advertisement?\\n[A] Walt Stack was featured in Nike\\'s first \"Just Do It\" advertisement, which debuted on July 1, 1988.\\n[Q] In which year did Nike go public and achieve a 50% market share in the U.S. athletic shoe market?\\n[A] Nike went public in December 1980 and achieved a 50% market share in the U.S. athletic shoe market.\\n[Q] Who coined the slogan \"Just Do It\" for a Nike ad campaign?\\n[A] The slogan \"Just Do It\" was coined by Dan Wieden for a 1988 Nike ad campaign.\\n[Q] What type of products does Nike primarily manufacture?\\n[A] Nike primarily manufactures sportswear, athletic shoes, and equipment.\\n[Q] What is the value of the Nike brand among sports businesses?\\n[A] In 2020, the Nike brand was valued at over $32 billion, making it the most valuable brand among sports businesses.\\n[Q] Who is credited with coining the name \"Nike\" for the company?\\n[A] Runner Jeff Johnson is credited with coining the name \"Nike\" for the company.\\n[Q] When did Nike open its first retail store, and where was it located?\\n[A] The first Nike retail store, Niketown, opened in downtown Portland in November 1990.\\n[Q] What was the original name of Nike, Inc. before it became \"Nike\"?\\n[A] Nike, Inc. was originally named \"Blue Ribbon Sports.\"\\n[Q] Who is the Greek goddess from whom Nike takes its name?\\n[A] Nike takes its name from the Greek goddess of victory, also named Nike.\\n[Q] What significant event occurred in 1967 that led to the expansion of Blue Ribbon Sports on the East Coast?\\n[A] In 1967, due to increasing sales, Blue Ribbon Sports expanded its retail and distribution operations on the East Coast in Wellesley, Massachusetts.\\n[Q] What is the significance of the \"Waffle Trainer\" introduced in 1974?\\n[A] The \"Waffle Trainer\" was significant as it helped fuel the explosive growth of Blue Ribbon Sports/Nike.\\n[Q] Why did the relationship between Blue Ribbon Sports and Onitsuka Tiger come to an end in 1972?\\n[A] The relationship ended due to increasing tensions, including a takeover attempt by Onitsuka Tiger, which would have given the Japanese company 51 percent of Blue Ribbon Sports.\\n[Q] Who was responsible for designing the Swoosh logo, and when was it first used?\\n[A] The Swoosh logo was designed by Carolyn Davidson and was first used by Nike on June 18, 1971.\\n[Q] When did Nike\\'s primary advertising agency, Wieden+Kennedy, create the first \"brand ad\" for Nike?\\n[A] In 1976, Wieden+Kennedy created the first \"brand ad\" for Nike, called \"There is no finish line.\"\\n[Q] Who was featured in the first \"Just Do It\" advertisement, and when did it debut?\\n[A] Walt Stack was featured in Nike\\'s first \"Just Do It\" advertisement, which debuted on July 1, 1988.\\n[Q] What inspired the \"Just Do It\" slogan?\\n[A] The inspiration for the \"Just Do It\" slogan was credited to \"Let\\'s do it,\" the last words spoken by Gary Gilmore before he was executed.\\n[Q] What percentage of the U.S. athletic shoe market did Nike attain by 1980?\\n[A] By 1980, Nike had attained a 50% market share in the U.S. athletic shoe market.\\n[Q] Who succeeded Phil Knight as chairman of Nike in 2016?\\n[A] Phil Knight was succeeded as chairman of Nike by someone else in 2016.\\n[Q] When did John Donahoe become the CEO of Nike, and who did he succeed?\\n[A] John Donahoe became the CEO of Nike on January 13, 2020, succeeding Mark Parker.\\n[Q] What change did Nike make in its sales strategy in October 2019?\\n[A] In October 2019, Nike stopped selling directly through Amazon and focused more on direct relationships with customers.'"
      ]
     },
     "execution_count": 33,
     "metadata": {},
     "output_type": "execute_result"
    }
   ],
   "source": [
    "text_data = re.sub(r'\\n+', '\\n', data).strip()  # Remove excess newline characters\n",
    "text_data"
   ]
  },
  {
   "cell_type": "code",
   "execution_count": 15,
   "metadata": {
    "id": "8RCPr_L0uJdo"
   },
   "outputs": [],
   "source": [
    "with open(\"data/train.txt\", \"w\") as f:\n",
    "    f.write(text_data)"
   ]
  },
  {
   "cell_type": "code",
   "execution_count": 34,
   "metadata": {},
   "outputs": [],
   "source": [
    "with open(\"data/train_qanda.txt\", \"w\") as f:\n",
    "    f.write(text_data)"
   ]
  },
  {
   "cell_type": "code",
   "execution_count": 16,
   "metadata": {
    "id": "9MFaNgaDEVKP"
   },
   "outputs": [],
   "source": [
    "from transformers import TextDataset, DataCollatorForLanguageModeling\n",
    "from transformers import GPT2Tokenizer, GPT2LMHeadModel\n",
    "from transformers import Trainer, TrainingArguments"
   ]
  },
  {
   "cell_type": "code",
   "execution_count": 17,
   "metadata": {
    "id": "Wk_14dI9EVdD"
   },
   "outputs": [],
   "source": [
    "def load_dataset(file_path, tokenizer, block_size = 128):\n",
    "    dataset = TextDataset(\n",
    "        tokenizer = tokenizer,\n",
    "        file_path = file_path,\n",
    "        block_size = block_size,\n",
    "    )\n",
    "    return dataset"
   ]
  },
  {
   "cell_type": "code",
   "execution_count": 18,
   "metadata": {
    "id": "QJcoT-aNFcKp"
   },
   "outputs": [],
   "source": [
    "def load_data_collator(tokenizer, mlm = False):\n",
    "    data_collator = DataCollatorForLanguageModeling(\n",
    "        tokenizer=tokenizer, \n",
    "        mlm=mlm,\n",
    "    )\n",
    "    return data_collator"
   ]
  },
  {
   "cell_type": "code",
   "execution_count": 19,
   "metadata": {
    "id": "Ub3THjJ_FdSw"
   },
   "outputs": [],
   "source": [
    "def train(train_file_path,model_name,\n",
    "          output_dir,\n",
    "          overwrite_output_dir,\n",
    "          per_device_train_batch_size,\n",
    "          num_train_epochs,\n",
    "          save_steps):\n",
    "  tokenizer = GPT2Tokenizer.from_pretrained(model_name)\n",
    "  train_dataset = load_dataset(train_file_path, tokenizer)\n",
    "  data_collator = load_data_collator(tokenizer)\n",
    "\n",
    "  tokenizer.save_pretrained(output_dir)\n",
    "      \n",
    "  model = GPT2LMHeadModel.from_pretrained(model_name)\n",
    "\n",
    "  model.save_pretrained(output_dir)\n",
    "\n",
    "  training_args = TrainingArguments(\n",
    "          output_dir=output_dir,\n",
    "          overwrite_output_dir=overwrite_output_dir,\n",
    "          per_device_train_batch_size=per_device_train_batch_size,\n",
    "          num_train_epochs=num_train_epochs,\n",
    "      )\n",
    "\n",
    "  trainer = Trainer(\n",
    "          model=model,\n",
    "          args=training_args,\n",
    "          data_collator=data_collator,\n",
    "          train_dataset=train_dataset,\n",
    "  )\n",
    "      \n",
    "  trainer.train()\n",
    "  trainer.save_model()"
   ]
  },
  {
   "cell_type": "code",
   "execution_count": 35,
   "metadata": {
    "id": "9mXiWKHbFr2f"
   },
   "outputs": [],
   "source": [
    "\n",
    "#train_file_path = \"/content/drive/MyDrive/ColabNotebooks/data/chatbot_docs/combined_text/full_text/train.txt\"\n",
    "#train_file_path = \"/content/drive/MyDrive/ColabNotebooks/data/chatbot_docs/combined_text/q_and_a/train.txt\"\n",
    "#train_file_path = \"data/train.txt\"\n",
    "train_file_path = \"data/train_qanda.txt\"\n",
    "model_name = 'gpt2'\n",
    "#output_dir = '/content/drive/MyDrive/ColabNotebooks/models/chat_models/custom_full_text'\n",
    "output_dir = 'data/result'\n",
    "overwrite_output_dir = False\n",
    "per_device_train_batch_size = 8\n",
    "num_train_epochs = 50.0\n",
    "save_steps = 50000"
   ]
  },
  {
   "cell_type": "code",
   "execution_count": 36,
   "metadata": {
    "id": "WMdaTo7KF9uo"
   },
   "outputs": [
    {
     "name": "stderr",
     "output_type": "stream",
     "text": [
      "loading file vocab.json from cache at /Users/macbookpro/.cache/huggingface/hub/models--gpt2/snapshots/11c5a3d5811f50298f278a704980280950aedb10/vocab.json\n",
      "loading file merges.txt from cache at /Users/macbookpro/.cache/huggingface/hub/models--gpt2/snapshots/11c5a3d5811f50298f278a704980280950aedb10/merges.txt\n",
      "loading file added_tokens.json from cache at None\n",
      "loading file special_tokens_map.json from cache at None\n",
      "loading file tokenizer_config.json from cache at None\n",
      "loading configuration file config.json from cache at /Users/macbookpro/.cache/huggingface/hub/models--gpt2/snapshots/11c5a3d5811f50298f278a704980280950aedb10/config.json\n",
      "Model config GPT2Config {\n",
      "  \"_name_or_path\": \"gpt2\",\n",
      "  \"activation_function\": \"gelu_new\",\n",
      "  \"architectures\": [\n",
      "    \"GPT2LMHeadModel\"\n",
      "  ],\n",
      "  \"attn_pdrop\": 0.1,\n",
      "  \"bos_token_id\": 50256,\n",
      "  \"embd_pdrop\": 0.1,\n",
      "  \"eos_token_id\": 50256,\n",
      "  \"initializer_range\": 0.02,\n",
      "  \"layer_norm_epsilon\": 1e-05,\n",
      "  \"model_type\": \"gpt2\",\n",
      "  \"n_ctx\": 1024,\n",
      "  \"n_embd\": 768,\n",
      "  \"n_head\": 12,\n",
      "  \"n_inner\": null,\n",
      "  \"n_layer\": 12,\n",
      "  \"n_positions\": 1024,\n",
      "  \"reorder_and_upcast_attn\": false,\n",
      "  \"resid_pdrop\": 0.1,\n",
      "  \"scale_attn_by_inverse_layer_idx\": false,\n",
      "  \"scale_attn_weights\": true,\n",
      "  \"summary_activation\": null,\n",
      "  \"summary_first_dropout\": 0.1,\n",
      "  \"summary_proj_to_labels\": true,\n",
      "  \"summary_type\": \"cls_index\",\n",
      "  \"summary_use_proj\": true,\n",
      "  \"task_specific_params\": {\n",
      "    \"text-generation\": {\n",
      "      \"do_sample\": true,\n",
      "      \"max_length\": 50\n",
      "    }\n",
      "  },\n",
      "  \"transformers_version\": \"4.24.0\",\n",
      "  \"use_cache\": true,\n",
      "  \"vocab_size\": 50257\n",
      "}\n",
      "\n",
      "/Users/macbookpro/anaconda3/lib/python3.10/site-packages/transformers/data/datasets/language_modeling.py:54: FutureWarning: This dataset will be removed from the library soon, preprocessing should be handled with the 🤗 Datasets library. You can have a look at this example script for pointers: https://github.com/huggingface/transformers/blob/main/examples/pytorch/language-modeling/run_mlm.py\n",
      "  warnings.warn(\n",
      "Creating features from dataset file at data\n",
      "Saving features into cached file data/cached_lm_GPT2Tokenizer_128_train_qanda.txt [took 0.001 s]\n",
      "tokenizer config file saved in data/result/tokenizer_config.json\n",
      "Special tokens file saved in data/result/special_tokens_map.json\n",
      "loading configuration file config.json from cache at /Users/macbookpro/.cache/huggingface/hub/models--gpt2/snapshots/11c5a3d5811f50298f278a704980280950aedb10/config.json\n",
      "Model config GPT2Config {\n",
      "  \"activation_function\": \"gelu_new\",\n",
      "  \"architectures\": [\n",
      "    \"GPT2LMHeadModel\"\n",
      "  ],\n",
      "  \"attn_pdrop\": 0.1,\n",
      "  \"bos_token_id\": 50256,\n",
      "  \"embd_pdrop\": 0.1,\n",
      "  \"eos_token_id\": 50256,\n",
      "  \"initializer_range\": 0.02,\n",
      "  \"layer_norm_epsilon\": 1e-05,\n",
      "  \"model_type\": \"gpt2\",\n",
      "  \"n_ctx\": 1024,\n",
      "  \"n_embd\": 768,\n",
      "  \"n_head\": 12,\n",
      "  \"n_inner\": null,\n",
      "  \"n_layer\": 12,\n",
      "  \"n_positions\": 1024,\n",
      "  \"reorder_and_upcast_attn\": false,\n",
      "  \"resid_pdrop\": 0.1,\n",
      "  \"scale_attn_by_inverse_layer_idx\": false,\n",
      "  \"scale_attn_weights\": true,\n",
      "  \"summary_activation\": null,\n",
      "  \"summary_first_dropout\": 0.1,\n",
      "  \"summary_proj_to_labels\": true,\n",
      "  \"summary_type\": \"cls_index\",\n",
      "  \"summary_use_proj\": true,\n",
      "  \"task_specific_params\": {\n",
      "    \"text-generation\": {\n",
      "      \"do_sample\": true,\n",
      "      \"max_length\": 50\n",
      "    }\n",
      "  },\n",
      "  \"transformers_version\": \"4.24.0\",\n",
      "  \"use_cache\": true,\n",
      "  \"vocab_size\": 50257\n",
      "}\n",
      "\n",
      "loading weights file pytorch_model.bin from cache at /Users/macbookpro/.cache/huggingface/hub/models--gpt2/snapshots/11c5a3d5811f50298f278a704980280950aedb10/pytorch_model.bin\n",
      "All model checkpoint weights were used when initializing GPT2LMHeadModel.\n",
      "\n",
      "All the weights of GPT2LMHeadModel were initialized from the model checkpoint at gpt2.\n",
      "If your task is similar to the task the model of the checkpoint was trained on, you can already use GPT2LMHeadModel for predictions without further training.\n",
      "Configuration saved in data/result/config.json\n",
      "Model weights saved in data/result/pytorch_model.bin\n",
      "PyTorch: setting up devices\n",
      "The default value for the training argument `--report_to` will change in v5 (from all installed integrations to none). In v5, you will need to use `--report_to all` to get the same behavior as now. You should start updating your code and make this info disappear :-).\n",
      "/Users/macbookpro/anaconda3/lib/python3.10/site-packages/transformers/optimization.py:306: FutureWarning: This implementation of AdamW is deprecated and will be removed in a future version. Use the PyTorch implementation torch.optim.AdamW instead, or set `no_deprecation_warning=True` to disable this warning\n",
      "  warnings.warn(\n",
      "***** Running training *****\n",
      "  Num examples = 15\n",
      "  Num Epochs = 50\n",
      "  Instantaneous batch size per device = 8\n",
      "  Total train batch size (w. parallel, distributed & accumulation) = 8\n",
      "  Gradient Accumulation steps = 1\n",
      "  Total optimization steps = 100\n",
      "  Number of trainable parameters = 124439808\n"
     ]
    },
    {
     "data": {
      "text/html": [
       "\n",
       "    <div>\n",
       "      \n",
       "      <progress value='100' max='100' style='width:300px; height:20px; vertical-align: middle;'></progress>\n",
       "      [100/100 20:08, Epoch 50/50]\n",
       "    </div>\n",
       "    <table border=\"1\" class=\"dataframe\">\n",
       "  <thead>\n",
       " <tr style=\"text-align: left;\">\n",
       "      <th>Step</th>\n",
       "      <th>Training Loss</th>\n",
       "    </tr>\n",
       "  </thead>\n",
       "  <tbody>\n",
       "  </tbody>\n",
       "</table><p>"
      ],
      "text/plain": [
       "<IPython.core.display.HTML object>"
      ]
     },
     "metadata": {},
     "output_type": "display_data"
    },
    {
     "name": "stderr",
     "output_type": "stream",
     "text": [
      "\n",
      "\n",
      "Training completed. Do not forget to share your model on huggingface.co/models =)\n",
      "\n",
      "\n",
      "Saving model checkpoint to data/result\n",
      "Configuration saved in data/result/config.json\n",
      "Model weights saved in data/result/pytorch_model.bin\n"
     ]
    }
   ],
   "source": [
    "# Train\n",
    "train(\n",
    "    train_file_path=train_file_path,\n",
    "    model_name=model_name,\n",
    "    output_dir=output_dir,\n",
    "    overwrite_output_dir=overwrite_output_dir,\n",
    "    per_device_train_batch_size=per_device_train_batch_size,\n",
    "    num_train_epochs=num_train_epochs,\n",
    "    save_steps=save_steps\n",
    ")"
   ]
  },
  {
   "cell_type": "markdown",
   "metadata": {
    "id": "xwGS1IMlGBMB"
   },
   "source": [
    "Inference"
   ]
  },
  {
   "cell_type": "code",
   "execution_count": null,
   "metadata": {
    "id": "lelq_sN4Gy5M"
   },
   "outputs": [],
   "source": [
    "from transformers import PreTrainedTokenizerFast, GPT2LMHeadModel, GPT2TokenizerFast, GPT2Tokenizer"
   ]
  },
  {
   "cell_type": "code",
   "execution_count": 37,
   "metadata": {
    "id": "wOvrNQRAG2IP"
   },
   "outputs": [],
   "source": [
    "def load_model(model_path):\n",
    "    model = GPT2LMHeadModel.from_pretrained(model_path)\n",
    "    return model\n",
    "\n",
    "\n",
    "def load_tokenizer(tokenizer_path):\n",
    "    tokenizer = GPT2Tokenizer.from_pretrained(tokenizer_path)\n",
    "    return tokenizer\n",
    "\n",
    "def generate_text(model_path, sequence, max_length):\n",
    "    \n",
    "    model = load_model(model_path)\n",
    "    tokenizer = load_tokenizer(model_path)\n",
    "    ids = tokenizer.encode(f'{sequence}', return_tensors='pt')\n",
    "    final_outputs = model.generate(\n",
    "        ids,\n",
    "        do_sample=True,\n",
    "        max_length=max_length,\n",
    "        pad_token_id=model.config.eos_token_id,\n",
    "        top_k=50,\n",
    "        top_p=0.95,\n",
    "    )\n",
    "    print(tokenizer.decode(final_outputs[0], skip_special_tokens=True))"
   ]
  },
  {
   "cell_type": "markdown",
   "metadata": {
    "id": "BvNx7gjeRieD"
   },
   "source": [
    "This model got trained on the entire text and took much longer to train, and yet it fails to give meaningful results. "
   ]
  },
  {
   "cell_type": "code",
   "execution_count": 27,
   "metadata": {
    "colab": {
     "base_uri": "https://localhost:8080/"
    },
    "id": "5mTDTrpnG5Ut",
    "outputId": "e37387f1-beb6-4fa6-d5fd-ec2dfd775978"
   },
   "outputs": [
    {
     "name": "stderr",
     "output_type": "stream",
     "text": [
      "loading configuration file data/result/config.json\n",
      "Model config GPT2Config {\n",
      "  \"_name_or_path\": \"gpt2\",\n",
      "  \"activation_function\": \"gelu_new\",\n",
      "  \"architectures\": [\n",
      "    \"GPT2LMHeadModel\"\n",
      "  ],\n",
      "  \"attn_pdrop\": 0.1,\n",
      "  \"bos_token_id\": 50256,\n",
      "  \"embd_pdrop\": 0.1,\n",
      "  \"eos_token_id\": 50256,\n",
      "  \"initializer_range\": 0.02,\n",
      "  \"layer_norm_epsilon\": 1e-05,\n",
      "  \"model_type\": \"gpt2\",\n",
      "  \"n_ctx\": 1024,\n",
      "  \"n_embd\": 768,\n",
      "  \"n_head\": 12,\n",
      "  \"n_inner\": null,\n",
      "  \"n_layer\": 12,\n",
      "  \"n_positions\": 1024,\n",
      "  \"reorder_and_upcast_attn\": false,\n",
      "  \"resid_pdrop\": 0.1,\n",
      "  \"scale_attn_by_inverse_layer_idx\": false,\n",
      "  \"scale_attn_weights\": true,\n",
      "  \"summary_activation\": null,\n",
      "  \"summary_first_dropout\": 0.1,\n",
      "  \"summary_proj_to_labels\": true,\n",
      "  \"summary_type\": \"cls_index\",\n",
      "  \"summary_use_proj\": true,\n",
      "  \"task_specific_params\": {\n",
      "    \"text-generation\": {\n",
      "      \"do_sample\": true,\n",
      "      \"max_length\": 50\n",
      "    }\n",
      "  },\n",
      "  \"torch_dtype\": \"float32\",\n",
      "  \"transformers_version\": \"4.24.0\",\n",
      "  \"use_cache\": true,\n",
      "  \"vocab_size\": 50257\n",
      "}\n",
      "\n",
      "loading weights file data/result/pytorch_model.bin\n",
      "All model checkpoint weights were used when initializing GPT2LMHeadModel.\n",
      "\n",
      "All the weights of GPT2LMHeadModel were initialized from the model checkpoint at data/result.\n",
      "If your task is similar to the task the model of the checkpoint was trained on, you can already use GPT2LMHeadModel for predictions without further training.\n",
      "loading file vocab.json\n",
      "loading file merges.txt\n",
      "loading file added_tokens.json\n",
      "loading file special_tokens_map.json\n",
      "loading file tokenizer_config.json\n"
     ]
    },
    {
     "name": "stdout",
     "output_type": "stream",
     "text": [
      "[Q] When was the company founded?\": 30 June 1964\n",
      "\"I was sitting in the living room of my father's BRS studio, listening to Blue Ribbon Sports, and came across John Lennon. People say, 'BRS was the\n"
     ]
    }
   ],
   "source": [
    "model1_path = \"data/result\"\n",
    "#sequence1 = \"[Q] What is the Babel fish?\"\n",
    "sequence1 = \"[Q] When was the company founded?\"\n",
    "max_len = 50\n",
    "generate_text(model1_path, sequence1, max_len) "
   ]
  },
  {
   "cell_type": "markdown",
   "metadata": {
    "id": "dCxvbeKfRs35"
   },
   "source": [
    "The following model was trained on 100 questions and answers based on the original text and it trained in a few seconds (50 epochs). It gives very meaningful results. "
   ]
  },
  {
   "cell_type": "code",
   "execution_count": 48,
   "metadata": {
    "colab": {
     "base_uri": "https://localhost:8080/"
    },
    "id": "uSAOQPk8vOTE",
    "outputId": "69bedc13-2ac6-4ccc-c24a-dde11ef2015d"
   },
   "outputs": [
    {
     "name": "stderr",
     "output_type": "stream",
     "text": [
      "loading configuration file data/result/config.json\n",
      "Model config GPT2Config {\n",
      "  \"_name_or_path\": \"gpt2\",\n",
      "  \"activation_function\": \"gelu_new\",\n",
      "  \"architectures\": [\n",
      "    \"GPT2LMHeadModel\"\n",
      "  ],\n",
      "  \"attn_pdrop\": 0.1,\n",
      "  \"bos_token_id\": 50256,\n",
      "  \"embd_pdrop\": 0.1,\n",
      "  \"eos_token_id\": 50256,\n",
      "  \"initializer_range\": 0.02,\n",
      "  \"layer_norm_epsilon\": 1e-05,\n",
      "  \"model_type\": \"gpt2\",\n",
      "  \"n_ctx\": 1024,\n",
      "  \"n_embd\": 768,\n",
      "  \"n_head\": 12,\n",
      "  \"n_inner\": null,\n",
      "  \"n_layer\": 12,\n",
      "  \"n_positions\": 1024,\n",
      "  \"reorder_and_upcast_attn\": false,\n",
      "  \"resid_pdrop\": 0.1,\n",
      "  \"scale_attn_by_inverse_layer_idx\": false,\n",
      "  \"scale_attn_weights\": true,\n",
      "  \"summary_activation\": null,\n",
      "  \"summary_first_dropout\": 0.1,\n",
      "  \"summary_proj_to_labels\": true,\n",
      "  \"summary_type\": \"cls_index\",\n",
      "  \"summary_use_proj\": true,\n",
      "  \"task_specific_params\": {\n",
      "    \"text-generation\": {\n",
      "      \"do_sample\": true,\n",
      "      \"max_length\": 50\n",
      "    }\n",
      "  },\n",
      "  \"torch_dtype\": \"float32\",\n",
      "  \"transformers_version\": \"4.24.0\",\n",
      "  \"use_cache\": true,\n",
      "  \"vocab_size\": 50257\n",
      "}\n",
      "\n",
      "loading weights file data/result/pytorch_model.bin\n",
      "All model checkpoint weights were used when initializing GPT2LMHeadModel.\n",
      "\n",
      "All the weights of GPT2LMHeadModel were initialized from the model checkpoint at data/result.\n",
      "If your task is similar to the task the model of the checkpoint was trained on, you can already use GPT2LMHeadModel for predictions without further training.\n",
      "loading file vocab.json\n",
      "loading file merges.txt\n",
      "loading file added_tokens.json\n",
      "loading file special_tokens_map.json\n",
      "loading file tokenizer_config.json\n"
     ]
    },
    {
     "name": "stdout",
     "output_type": "stream",
     "text": [
      "[Q] When was the company founded?\n",
      "[A] Walt Stack was founded by Bill Bowerman on July 1, 1971.\n",
      "[Q] Who coined the\n"
     ]
    }
   ],
   "source": [
    "model2_path = \"data/result\"\n",
    "sequence2 = \"[Q] When was the company founded?\"\n",
    "max_len = 35\n",
    "generate_text(model2_path, sequence2, max_len) "
   ]
  },
  {
   "cell_type": "code",
   "execution_count": null,
   "metadata": {},
   "outputs": [],
   "source": []
  }
 ],
 "metadata": {
  "accelerator": "GPU",
  "colab": {
   "authorship_tag": "ABX9TyNvBu4Jj2F8tAESALuZqmkV",
   "include_colab_link": true,
   "mount_file_id": "1WRB2uz0Mpfkw6AnDAxCOPwY_TT2tRizG",
   "provenance": []
  },
  "gpuClass": "standard",
  "kernelspec": {
   "display_name": "Python 3 (ipykernel)",
   "language": "python",
   "name": "python3"
  },
  "language_info": {
   "codemirror_mode": {
    "name": "ipython",
    "version": 3
   },
   "file_extension": ".py",
   "mimetype": "text/x-python",
   "name": "python",
   "nbconvert_exporter": "python",
   "pygments_lexer": "ipython3",
   "version": "3.10.9"
  }
 },
 "nbformat": 4,
 "nbformat_minor": 1
}
